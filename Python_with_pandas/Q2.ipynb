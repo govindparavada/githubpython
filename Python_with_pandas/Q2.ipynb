{
 "cells": [
  {
   "cell_type": "code",
   "execution_count": 20,
   "id": "67aad62c-e934-4273-8343-7e3d5d1382d7",
   "metadata": {},
   "outputs": [],
   "source": [
    "#Import pandas, numpy, seaborn,matplotlib\n",
    "import pandas as pd\n",
    "import numpy as np\n",
    "import seaborn as sns\n",
    "import matplotlib.pyplot as plt\n",
    "\n",
    "\n",
    "#Load the data in a dataframe\n",
    "df = pd.read_csv('ie_cpi_data.csv')"
   ]
  },
  {
   "cell_type": "code",
   "execution_count": 21,
   "id": "614cfb0f-1c74-4421-987a-d06758e835ac",
   "metadata": {},
   "outputs": [
    {
     "data": {
      "text/html": [
       "<div>\n",
       "<style scoped>\n",
       "    .dataframe tbody tr th:only-of-type {\n",
       "        vertical-align: middle;\n",
       "    }\n",
       "\n",
       "    .dataframe tbody tr th {\n",
       "        vertical-align: top;\n",
       "    }\n",
       "\n",
       "    .dataframe thead th {\n",
       "        text-align: right;\n",
       "    }\n",
       "</style>\n",
       "<table border=\"1\" class=\"dataframe\">\n",
       "  <thead>\n",
       "    <tr style=\"text-align: right;\">\n",
       "      <th></th>\n",
       "      <th>Year</th>\n",
       "      <th>Alcohol</th>\n",
       "      <th>Energy Products</th>\n",
       "      <th>Goods</th>\n",
       "      <th>Mortgage Interest</th>\n",
       "      <th>Services</th>\n",
       "      <th>Tobacco</th>\n",
       "      <th>Utilities and Local Charges</th>\n",
       "    </tr>\n",
       "  </thead>\n",
       "  <tbody>\n",
       "    <tr>\n",
       "      <th>count</th>\n",
       "      <td>241.000000</td>\n",
       "      <td>241.000000</td>\n",
       "      <td>241.000000</td>\n",
       "      <td>241.000000</td>\n",
       "      <td>241.000000</td>\n",
       "      <td>241.000000</td>\n",
       "      <td>241.000000</td>\n",
       "      <td>241.00000</td>\n",
       "    </tr>\n",
       "    <tr>\n",
       "      <th>mean</th>\n",
       "      <td>2012.290456</td>\n",
       "      <td>97.670124</td>\n",
       "      <td>98.581743</td>\n",
       "      <td>106.252282</td>\n",
       "      <td>119.494606</td>\n",
       "      <td>92.697510</td>\n",
       "      <td>84.675934</td>\n",
       "      <td>93.16805</td>\n",
       "    </tr>\n",
       "    <tr>\n",
       "      <th>std</th>\n",
       "      <td>5.816524</td>\n",
       "      <td>6.881722</td>\n",
       "      <td>21.249710</td>\n",
       "      <td>6.249920</td>\n",
       "      <td>30.308064</td>\n",
       "      <td>12.433054</td>\n",
       "      <td>24.748582</td>\n",
       "      <td>21.18159</td>\n",
       "    </tr>\n",
       "    <tr>\n",
       "      <th>min</th>\n",
       "      <td>2002.000000</td>\n",
       "      <td>81.100000</td>\n",
       "      <td>59.900000</td>\n",
       "      <td>93.100000</td>\n",
       "      <td>75.500000</td>\n",
       "      <td>68.300000</td>\n",
       "      <td>46.400000</td>\n",
       "      <td>23.00000</td>\n",
       "    </tr>\n",
       "    <tr>\n",
       "      <th>25%</th>\n",
       "      <td>2007.000000</td>\n",
       "      <td>93.300000</td>\n",
       "      <td>85.400000</td>\n",
       "      <td>99.800000</td>\n",
       "      <td>100.000000</td>\n",
       "      <td>86.100000</td>\n",
       "      <td>61.800000</td>\n",
       "      <td>79.60000</td>\n",
       "    </tr>\n",
       "    <tr>\n",
       "      <th>50%</th>\n",
       "      <td>2012.000000</td>\n",
       "      <td>98.800000</td>\n",
       "      <td>100.800000</td>\n",
       "      <td>108.600000</td>\n",
       "      <td>108.800000</td>\n",
       "      <td>92.700000</td>\n",
       "      <td>80.800000</td>\n",
       "      <td>91.30000</td>\n",
       "    </tr>\n",
       "    <tr>\n",
       "      <th>75%</th>\n",
       "      <td>2017.000000</td>\n",
       "      <td>102.300000</td>\n",
       "      <td>110.600000</td>\n",
       "      <td>110.800000</td>\n",
       "      <td>135.800000</td>\n",
       "      <td>102.500000</td>\n",
       "      <td>103.600000</td>\n",
       "      <td>107.90000</td>\n",
       "    </tr>\n",
       "    <tr>\n",
       "      <th>max</th>\n",
       "      <td>2022.000000</td>\n",
       "      <td>114.200000</td>\n",
       "      <td>189.200000</td>\n",
       "      <td>118.300000</td>\n",
       "      <td>218.300000</td>\n",
       "      <td>121.400000</td>\n",
       "      <td>138.200000</td>\n",
       "      <td>171.60000</td>\n",
       "    </tr>\n",
       "  </tbody>\n",
       "</table>\n",
       "</div>"
      ],
      "text/plain": [
       "              Year     Alcohol  Energy Products       Goods  \\\n",
       "count   241.000000  241.000000       241.000000  241.000000   \n",
       "mean   2012.290456   97.670124        98.581743  106.252282   \n",
       "std       5.816524    6.881722        21.249710    6.249920   \n",
       "min    2002.000000   81.100000        59.900000   93.100000   \n",
       "25%    2007.000000   93.300000        85.400000   99.800000   \n",
       "50%    2012.000000   98.800000       100.800000  108.600000   \n",
       "75%    2017.000000  102.300000       110.600000  110.800000   \n",
       "max    2022.000000  114.200000       189.200000  118.300000   \n",
       "\n",
       "       Mortgage Interest    Services     Tobacco  Utilities and Local Charges  \n",
       "count         241.000000  241.000000  241.000000                    241.00000  \n",
       "mean          119.494606   92.697510   84.675934                     93.16805  \n",
       "std            30.308064   12.433054   24.748582                     21.18159  \n",
       "min            75.500000   68.300000   46.400000                     23.00000  \n",
       "25%           100.000000   86.100000   61.800000                     79.60000  \n",
       "50%           108.800000   92.700000   80.800000                     91.30000  \n",
       "75%           135.800000  102.500000  103.600000                    107.90000  \n",
       "max           218.300000  121.400000  138.200000                    171.60000  "
      ]
     },
     "execution_count": 21,
     "metadata": {},
     "output_type": "execute_result"
    }
   ],
   "source": [
    "df.describe()"
   ]
  },
  {
   "cell_type": "code",
   "execution_count": 22,
   "id": "5c193115-3ebe-4b2a-b763-62583417b50c",
   "metadata": {},
   "outputs": [],
   "source": [
    "X=df['Date']"
   ]
  },
  {
   "cell_type": "code",
   "execution_count": 34,
   "id": "b7e65b26-ebf9-419b-beb4-48930cced8c2",
   "metadata": {},
   "outputs": [],
   "source": [
    "#creating new dataframe from df\n",
    "newdataFrame = pd.DataFrame(X, columns=[\"Date\",\"Goods\",\"Services\",\"Utilities and Local Charges\",\"Energy Products\"])"
   ]
  },
  {
   "cell_type": "code",
   "execution_count": 35,
   "id": "2b7a7ae3-b433-4bc2-9802-a25aff37634d",
   "metadata": {},
   "outputs": [
    {
     "data": {
      "text/plain": [
       "<AxesSubplot: >"
      ]
     },
     "execution_count": 35,
     "metadata": {},
     "output_type": "execute_result"
    },
    {
     "data": {
      "image/png": "[encoded data removed]",
      "text/plain": [
       "<Figure size 640x480 with 1 Axes>"
      ]
     },
     "metadata": {},
     "output_type": "display_data"
    }
   ],
   "source": [
    "newdataFrame.plot()"
   ]
  },
  {
   "cell_type": "code",
   "execution_count": null,
   "id": "b51c3f8b-d8d2-43fe-b3da-d5e36da215a7",
   "metadata": {},
   "outputs": [],
   "source": []
  }
 ],
 "metadata": {
  "kernelspec": {
   "display_name": "Python 3 (ipykernel)",
   "language": "python",
   "name": "python3"
  },
  "language_info": {
   "codemirror_mode": {
    "name": "ipython",
    "version": 3
   },
   "file_extension": ".py",
   "mimetype": "text/x-python",
   "name": "python",
   "nbconvert_exporter": "python",
   "pygments_lexer": "ipython3",
   "version": "3.10.7"
  }
 },
 "nbformat": 4,
 "nbformat_minor": 5
}
