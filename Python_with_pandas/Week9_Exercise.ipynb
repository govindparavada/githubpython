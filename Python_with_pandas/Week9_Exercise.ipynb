{
 "cells": [
  {
   "cell_type": "code",
   "execution_count": null,
   "id": "b1aaaaa0",
   "metadata": {},
   "outputs": [],
   "source": [
    "#Q1. Load the Iris dataset using the seaborn library"
   ]
  },
  {
   "cell_type": "code",
   "execution_count": null,
   "id": "baeb62e7",
   "metadata": {},
   "outputs": [],
   "source": [
    "#Q.2. Perform EDA on Iris dataset"
   ]
  },
  {
   "cell_type": "code",
   "execution_count": null,
   "id": "b5461c42",
   "metadata": {},
   "outputs": [],
   "source": [
    "#Q.3 Perform K-means clustering on Iris dataset using the following steps. Consider all attributes of the dataset excluding the target dataset\n",
    "#1. Choose the number of clusters k\n",
    "#2. Select k random points from the data as centroids\n",
    "#3. Assign all the points to the closest cluster centroid\n",
    "#4. Recompute the centroids of newly formed clusters\n",
    "#5. Repeat steps 3 and 4"
   ]
  },
  {
   "cell_type": "code",
   "execution_count": null,
   "id": "498a2532",
   "metadata": {},
   "outputs": [],
   "source": [
    "#Q.4 Plot the graph of WCSS vs no of clusters (elbow method)"
   ]
  },
  {
   "cell_type": "code",
   "execution_count": null,
   "id": "7e76d693",
   "metadata": {},
   "outputs": [],
   "source": [
    "#Q.5 Using the optimum number of clusters, make the prediction using max_iter=300 and n_init=10"
   ]
  },
  {
   "cell_type": "code",
   "execution_count": null,
   "id": "09eb47d0",
   "metadata": {},
   "outputs": [],
   "source": [
    "#Q.6 Visualize the clusters using scatter plot."
   ]
  }
 ],
 "metadata": {
  "kernelspec": {
   "display_name": "Python 3",
   "language": "python",
   "name": "python3"
  },
  "language_info": {
   "codemirror_mode": {
    "name": "ipython",
    "version": 3
   },
   "file_extension": ".py",
   "mimetype": "text/x-python",
   "name": "python",
   "nbconvert_exporter": "python",
   "pygments_lexer": "ipython3",
   "version": "3.8.8"
  }
 },
 "nbformat": 4,
 "nbformat_minor": 5
}
